{
 "cells": [
  {
   "cell_type": "code",
   "execution_count": 7,
   "id": "791e381c-370b-45e7-a713-e131fe03691d",
   "metadata": {},
   "outputs": [
    {
     "name": "stdout",
     "output_type": "stream",
     "text": [
      "Requirement already satisfied: torch in c:\\users\\haroon\\anaconda3\\envs\\paddleocr\\lib\\site-packages (2.2.2)\n",
      "Requirement already satisfied: torchvision in c:\\users\\haroon\\anaconda3\\envs\\paddleocr\\lib\\site-packages (0.17.2)\n",
      "Requirement already satisfied: torchaudio in c:\\users\\haroon\\anaconda3\\envs\\paddleocr\\lib\\site-packages (2.2.2)\n",
      "Requirement already satisfied: filelock in c:\\users\\haroon\\anaconda3\\envs\\paddleocr\\lib\\site-packages (from torch) (3.13.3)\n",
      "Requirement already satisfied: typing-extensions>=4.8.0 in c:\\users\\haroon\\anaconda3\\envs\\paddleocr\\lib\\site-packages (from torch) (4.10.0)\n",
      "Requirement already satisfied: sympy in c:\\users\\haroon\\anaconda3\\envs\\paddleocr\\lib\\site-packages (from torch) (1.12)\n",
      "Requirement already satisfied: networkx in c:\\users\\haroon\\anaconda3\\envs\\paddleocr\\lib\\site-packages (from torch) (3.1)\n",
      "Requirement already satisfied: jinja2 in c:\\users\\haroon\\anaconda3\\envs\\paddleocr\\lib\\site-packages (from torch) (3.1.3)\n",
      "Requirement already satisfied: fsspec in c:\\users\\haroon\\anaconda3\\envs\\paddleocr\\lib\\site-packages (from torch) (2024.3.1)\n",
      "Requirement already satisfied: numpy in c:\\users\\haroon\\anaconda3\\envs\\paddleocr\\lib\\site-packages (from torchvision) (1.24.4)\n",
      "Requirement already satisfied: pillow!=8.3.*,>=5.3.0 in c:\\users\\haroon\\anaconda3\\envs\\paddleocr\\lib\\site-packages (from torchvision) (10.2.0)\n",
      "Requirement already satisfied: MarkupSafe>=2.0 in c:\\users\\haroon\\anaconda3\\envs\\paddleocr\\lib\\site-packages (from jinja2->torch) (2.1.3)\n",
      "Requirement already satisfied: mpmath>=0.19 in c:\\users\\haroon\\anaconda3\\envs\\paddleocr\\lib\\site-packages (from sympy->torch) (1.3.0)\n",
      "Requirement already satisfied: easyocr in c:\\users\\haroon\\anaconda3\\envs\\paddleocr\\lib\\site-packages (1.7.1)\n",
      "Requirement already satisfied: torch in c:\\users\\haroon\\anaconda3\\envs\\paddleocr\\lib\\site-packages (from easyocr) (2.2.2)\n",
      "Requirement already satisfied: torchvision>=0.5 in c:\\users\\haroon\\anaconda3\\envs\\paddleocr\\lib\\site-packages (from easyocr) (0.17.2)\n",
      "Requirement already satisfied: opencv-python-headless in c:\\users\\haroon\\anaconda3\\envs\\paddleocr\\lib\\site-packages (from easyocr) (4.9.0.80)\n",
      "Requirement already satisfied: scipy in c:\\users\\haroon\\anaconda3\\envs\\paddleocr\\lib\\site-packages (from easyocr) (1.10.1)\n",
      "Requirement already satisfied: numpy in c:\\users\\haroon\\anaconda3\\envs\\paddleocr\\lib\\site-packages (from easyocr) (1.24.4)\n",
      "Requirement already satisfied: Pillow in c:\\users\\haroon\\anaconda3\\envs\\paddleocr\\lib\\site-packages (from easyocr) (10.2.0)\n",
      "Requirement already satisfied: scikit-image in c:\\users\\haroon\\anaconda3\\envs\\paddleocr\\lib\\site-packages (from easyocr) (0.21.0)\n",
      "Requirement already satisfied: python-bidi in c:\\users\\haroon\\anaconda3\\envs\\paddleocr\\lib\\site-packages (from easyocr) (0.4.2)\n",
      "Requirement already satisfied: PyYAML in c:\\users\\haroon\\anaconda3\\envs\\paddleocr\\lib\\site-packages (from easyocr) (6.0.1)\n",
      "Requirement already satisfied: Shapely in c:\\users\\haroon\\anaconda3\\envs\\paddleocr\\lib\\site-packages (from easyocr) (2.0.3)\n",
      "Requirement already satisfied: pyclipper in c:\\users\\haroon\\anaconda3\\envs\\paddleocr\\lib\\site-packages (from easyocr) (1.3.0.post5)\n",
      "Requirement already satisfied: ninja in c:\\users\\haroon\\anaconda3\\envs\\paddleocr\\lib\\site-packages (from easyocr) (1.11.1.1)\n",
      "Requirement already satisfied: filelock in c:\\users\\haroon\\anaconda3\\envs\\paddleocr\\lib\\site-packages (from torch->easyocr) (3.13.3)\n",
      "Requirement already satisfied: typing-extensions>=4.8.0 in c:\\users\\haroon\\anaconda3\\envs\\paddleocr\\lib\\site-packages (from torch->easyocr) (4.10.0)\n",
      "Requirement already satisfied: sympy in c:\\users\\haroon\\anaconda3\\envs\\paddleocr\\lib\\site-packages (from torch->easyocr) (1.12)\n",
      "Requirement already satisfied: networkx in c:\\users\\haroon\\anaconda3\\envs\\paddleocr\\lib\\site-packages (from torch->easyocr) (3.1)\n",
      "Requirement already satisfied: jinja2 in c:\\users\\haroon\\anaconda3\\envs\\paddleocr\\lib\\site-packages (from torch->easyocr) (3.1.3)\n",
      "Requirement already satisfied: fsspec in c:\\users\\haroon\\anaconda3\\envs\\paddleocr\\lib\\site-packages (from torch->easyocr) (2024.3.1)\n",
      "Requirement already satisfied: six in c:\\users\\haroon\\anaconda3\\envs\\paddleocr\\lib\\site-packages (from python-bidi->easyocr) (1.16.0)\n",
      "Requirement already satisfied: imageio>=2.27 in c:\\users\\haroon\\anaconda3\\envs\\paddleocr\\lib\\site-packages (from scikit-image->easyocr) (2.34.0)\n",
      "Requirement already satisfied: tifffile>=2022.8.12 in c:\\users\\haroon\\anaconda3\\envs\\paddleocr\\lib\\site-packages (from scikit-image->easyocr) (2023.7.10)\n",
      "Requirement already satisfied: PyWavelets>=1.1.1 in c:\\users\\haroon\\anaconda3\\envs\\paddleocr\\lib\\site-packages (from scikit-image->easyocr) (1.4.1)\n",
      "Requirement already satisfied: packaging>=21 in c:\\users\\haroon\\anaconda3\\envs\\paddleocr\\lib\\site-packages (from scikit-image->easyocr) (23.2)\n",
      "Requirement already satisfied: lazy_loader>=0.2 in c:\\users\\haroon\\anaconda3\\envs\\paddleocr\\lib\\site-packages (from scikit-image->easyocr) (0.3)\n",
      "Requirement already satisfied: MarkupSafe>=2.0 in c:\\users\\haroon\\anaconda3\\envs\\paddleocr\\lib\\site-packages (from jinja2->torch->easyocr) (2.1.3)\n",
      "Requirement already satisfied: mpmath>=0.19 in c:\\users\\haroon\\anaconda3\\envs\\paddleocr\\lib\\site-packages (from sympy->torch->easyocr) (1.3.0)\n",
      "Requirement already satisfied: easyocr[en] in c:\\users\\haroon\\anaconda3\\envs\\paddleocr\\lib\\site-packages (1.7.1)\n",
      "Requirement already satisfied: torch in c:\\users\\haroon\\anaconda3\\envs\\paddleocr\\lib\\site-packages (from easyocr[en]) (2.2.2)\n",
      "Requirement already satisfied: torchvision>=0.5 in c:\\users\\haroon\\anaconda3\\envs\\paddleocr\\lib\\site-packages (from easyocr[en]) (0.17.2)\n",
      "Requirement already satisfied: opencv-python-headless in c:\\users\\haroon\\anaconda3\\envs\\paddleocr\\lib\\site-packages (from easyocr[en]) (4.9.0.80)\n",
      "Requirement already satisfied: scipy in c:\\users\\haroon\\anaconda3\\envs\\paddleocr\\lib\\site-packages (from easyocr[en]) (1.10.1)\n",
      "Requirement already satisfied: numpy in c:\\users\\haroon\\anaconda3\\envs\\paddleocr\\lib\\site-packages (from easyocr[en]) (1.24.4)\n",
      "Requirement already satisfied: Pillow in c:\\users\\haroon\\anaconda3\\envs\\paddleocr\\lib\\site-packages (from easyocr[en]) (10.2.0)\n",
      "Requirement already satisfied: scikit-image in c:\\users\\haroon\\anaconda3\\envs\\paddleocr\\lib\\site-packages (from easyocr[en]) (0.21.0)\n",
      "Requirement already satisfied: python-bidi in c:\\users\\haroon\\anaconda3\\envs\\paddleocr\\lib\\site-packages (from easyocr[en]) (0.4.2)\n",
      "Requirement already satisfied: PyYAML in c:\\users\\haroon\\anaconda3\\envs\\paddleocr\\lib\\site-packages (from easyocr[en]) (6.0.1)\n",
      "Requirement already satisfied: Shapely in c:\\users\\haroon\\anaconda3\\envs\\paddleocr\\lib\\site-packages (from easyocr[en]) (2.0.3)\n",
      "Requirement already satisfied: pyclipper in c:\\users\\haroon\\anaconda3\\envs\\paddleocr\\lib\\site-packages (from easyocr[en]) (1.3.0.post5)\n",
      "Requirement already satisfied: ninja in c:\\users\\haroon\\anaconda3\\envs\\paddleocr\\lib\\site-packages (from easyocr[en]) (1.11.1.1)\n",
      "Requirement already satisfied: filelock in c:\\users\\haroon\\anaconda3\\envs\\paddleocr\\lib\\site-packages (from torch->easyocr[en]) (3.13.3)\n",
      "Requirement already satisfied: typing-extensions>=4.8.0 in c:\\users\\haroon\\anaconda3\\envs\\paddleocr\\lib\\site-packages (from torch->easyocr[en]) (4.10.0)\n",
      "Requirement already satisfied: sympy in c:\\users\\haroon\\anaconda3\\envs\\paddleocr\\lib\\site-packages (from torch->easyocr[en]) (1.12)\n",
      "Requirement already satisfied: networkx in c:\\users\\haroon\\anaconda3\\envs\\paddleocr\\lib\\site-packages (from torch->easyocr[en]) (3.1)\n",
      "Requirement already satisfied: jinja2 in c:\\users\\haroon\\anaconda3\\envs\\paddleocr\\lib\\site-packages (from torch->easyocr[en]) (3.1.3)\n",
      "Requirement already satisfied: fsspec in c:\\users\\haroon\\anaconda3\\envs\\paddleocr\\lib\\site-packages (from torch->easyocr[en]) (2024.3.1)\n",
      "Requirement already satisfied: six in c:\\users\\haroon\\anaconda3\\envs\\paddleocr\\lib\\site-packages (from python-bidi->easyocr[en]) (1.16.0)\n",
      "Requirement already satisfied: imageio>=2.27 in c:\\users\\haroon\\anaconda3\\envs\\paddleocr\\lib\\site-packages (from scikit-image->easyocr[en]) (2.34.0)\n",
      "Requirement already satisfied: tifffile>=2022.8.12 in c:\\users\\haroon\\anaconda3\\envs\\paddleocr\\lib\\site-packages (from scikit-image->easyocr[en]) (2023.7.10)\n",
      "Requirement already satisfied: PyWavelets>=1.1.1 in c:\\users\\haroon\\anaconda3\\envs\\paddleocr\\lib\\site-packages (from scikit-image->easyocr[en]) (1.4.1)\n",
      "Requirement already satisfied: packaging>=21 in c:\\users\\haroon\\anaconda3\\envs\\paddleocr\\lib\\site-packages (from scikit-image->easyocr[en]) (23.2)\n",
      "Requirement already satisfied: lazy_loader>=0.2 in c:\\users\\haroon\\anaconda3\\envs\\paddleocr\\lib\\site-packages (from scikit-image->easyocr[en]) (0.3)\n",
      "Requirement already satisfied: MarkupSafe>=2.0 in c:\\users\\haroon\\anaconda3\\envs\\paddleocr\\lib\\site-packages (from jinja2->torch->easyocr[en]) (2.1.3)\n",
      "Requirement already satisfied: mpmath>=0.19 in c:\\users\\haroon\\anaconda3\\envs\\paddleocr\\lib\\site-packages (from sympy->torch->easyocr[en]) (1.3.0)\n"
     ]
    },
    {
     "name": "stderr",
     "output_type": "stream",
     "text": [
      "WARNING: easyocr 1.7.1 does not provide the extra 'en'\n"
     ]
    },
    {
     "name": "stdout",
     "output_type": "stream",
     "text": [
      "Requirement already satisfied: easyocr[ar] in c:\\users\\haroon\\anaconda3\\envs\\paddleocr\\lib\\site-packages (1.7.1)\n",
      "Requirement already satisfied: torch in c:\\users\\haroon\\anaconda3\\envs\\paddleocr\\lib\\site-packages (from easyocr[ar]) (2.2.2)\n",
      "Requirement already satisfied: torchvision>=0.5 in c:\\users\\haroon\\anaconda3\\envs\\paddleocr\\lib\\site-packages (from easyocr[ar]) (0.17.2)\n",
      "Requirement already satisfied: opencv-python-headless in c:\\users\\haroon\\anaconda3\\envs\\paddleocr\\lib\\site-packages (from easyocr[ar]) (4.9.0.80)\n",
      "Requirement already satisfied: scipy in c:\\users\\haroon\\anaconda3\\envs\\paddleocr\\lib\\site-packages (from easyocr[ar]) (1.10.1)\n",
      "Requirement already satisfied: numpy in c:\\users\\haroon\\anaconda3\\envs\\paddleocr\\lib\\site-packages (from easyocr[ar]) (1.24.4)\n",
      "Requirement already satisfied: Pillow in c:\\users\\haroon\\anaconda3\\envs\\paddleocr\\lib\\site-packages (from easyocr[ar]) (10.2.0)\n",
      "Requirement already satisfied: scikit-image in c:\\users\\haroon\\anaconda3\\envs\\paddleocr\\lib\\site-packages (from easyocr[ar]) (0.21.0)\n",
      "Requirement already satisfied: python-bidi in c:\\users\\haroon\\anaconda3\\envs\\paddleocr\\lib\\site-packages (from easyocr[ar]) (0.4.2)\n",
      "Requirement already satisfied: PyYAML in c:\\users\\haroon\\anaconda3\\envs\\paddleocr\\lib\\site-packages (from easyocr[ar]) (6.0.1)\n",
      "Requirement already satisfied: Shapely in c:\\users\\haroon\\anaconda3\\envs\\paddleocr\\lib\\site-packages (from easyocr[ar]) (2.0.3)\n",
      "Requirement already satisfied: pyclipper in c:\\users\\haroon\\anaconda3\\envs\\paddleocr\\lib\\site-packages (from easyocr[ar]) (1.3.0.post5)\n",
      "Requirement already satisfied: ninja in c:\\users\\haroon\\anaconda3\\envs\\paddleocr\\lib\\site-packages (from easyocr[ar]) (1.11.1.1)\n",
      "Requirement already satisfied: filelock in c:\\users\\haroon\\anaconda3\\envs\\paddleocr\\lib\\site-packages (from torch->easyocr[ar]) (3.13.3)\n",
      "Requirement already satisfied: typing-extensions>=4.8.0 in c:\\users\\haroon\\anaconda3\\envs\\paddleocr\\lib\\site-packages (from torch->easyocr[ar]) (4.10.0)\n",
      "Requirement already satisfied: sympy in c:\\users\\haroon\\anaconda3\\envs\\paddleocr\\lib\\site-packages (from torch->easyocr[ar]) (1.12)\n",
      "Requirement already satisfied: networkx in c:\\users\\haroon\\anaconda3\\envs\\paddleocr\\lib\\site-packages (from torch->easyocr[ar]) (3.1)\n",
      "Requirement already satisfied: jinja2 in c:\\users\\haroon\\anaconda3\\envs\\paddleocr\\lib\\site-packages (from torch->easyocr[ar]) (3.1.3)\n",
      "Requirement already satisfied: fsspec in c:\\users\\haroon\\anaconda3\\envs\\paddleocr\\lib\\site-packages (from torch->easyocr[ar]) (2024.3.1)\n",
      "Requirement already satisfied: six in c:\\users\\haroon\\anaconda3\\envs\\paddleocr\\lib\\site-packages (from python-bidi->easyocr[ar]) (1.16.0)\n",
      "Requirement already satisfied: imageio>=2.27 in c:\\users\\haroon\\anaconda3\\envs\\paddleocr\\lib\\site-packages (from scikit-image->easyocr[ar]) (2.34.0)\n",
      "Requirement already satisfied: tifffile>=2022.8.12 in c:\\users\\haroon\\anaconda3\\envs\\paddleocr\\lib\\site-packages (from scikit-image->easyocr[ar]) (2023.7.10)\n",
      "Requirement already satisfied: PyWavelets>=1.1.1 in c:\\users\\haroon\\anaconda3\\envs\\paddleocr\\lib\\site-packages (from scikit-image->easyocr[ar]) (1.4.1)\n",
      "Requirement already satisfied: packaging>=21 in c:\\users\\haroon\\anaconda3\\envs\\paddleocr\\lib\\site-packages (from scikit-image->easyocr[ar]) (23.2)\n",
      "Requirement already satisfied: lazy_loader>=0.2 in c:\\users\\haroon\\anaconda3\\envs\\paddleocr\\lib\\site-packages (from scikit-image->easyocr[ar]) (0.3)\n",
      "Requirement already satisfied: MarkupSafe>=2.0 in c:\\users\\haroon\\anaconda3\\envs\\paddleocr\\lib\\site-packages (from jinja2->torch->easyocr[ar]) (2.1.3)\n",
      "Requirement already satisfied: mpmath>=0.19 in c:\\users\\haroon\\anaconda3\\envs\\paddleocr\\lib\\site-packages (from sympy->torch->easyocr[ar]) (1.3.0)\n"
     ]
    },
    {
     "name": "stderr",
     "output_type": "stream",
     "text": [
      "WARNING: easyocr 1.7.1 does not provide the extra 'ar'\n"
     ]
    },
    {
     "data": {
      "text/plain": [
       "\"import easyocr\\nreader = easyocr.Reader(['en', 'ar'])\""
      ]
     },
     "execution_count": 7,
     "metadata": {},
     "output_type": "execute_result"
    }
   ],
   "source": [
    "!pip3 install torch torchvision torchaudio\n",
    "!pip install easyocr\n",
    "!pip install easyocr[en]\n",
    "!pip install easyocr[ar]\n",
    "'''import easyocr\n",
    "reader = easyocr.Reader(['en', 'ar'])'''"
   ]
  },
  {
   "cell_type": "code",
   "execution_count": 8,
   "id": "5f8c73f0-bea2-474a-9d28-2e4f24daa8c9",
   "metadata": {},
   "outputs": [
    {
     "name": "stderr",
     "output_type": "stream",
     "text": [
      "Neither CUDA nor MPS are available - defaulting to CPU. Note: This module is much faster with a GPU.\n"
     ]
    },
    {
     "name": "stdout",
     "output_type": "stream",
     "text": [
      "Text: KINGDOM OF SAUDLARABIA, Probability: 0.37095517746686596\n",
      "Text: هول*ا متم, Probability: 0.15055777564428716\n",
      "Text: اماكالعرسترالسعولا, Probability: 0.04302200918297186\n",
      "Text: MINISTRY OF INTERIOR, Probability: 0.4636112155348551\n",
      "Text: RESIDENT IDENTITY, Probability: 0.8119414874808047\n",
      "Text: عثمان بابار مالك بابار علي, Probability: 0.6109052551772575\n",
      "Text: USMAN BABAR MALIK BABAR ALI, Probability: 0.7211377914877697\n",
      "Text: نسخة, Probability: 0.9843499064445496\n",
      "Text: ٢٣٧٩٩٥٢٤١٥, Probability: 0.9996045854167364\n",
      "Text: الرقم, Probability: 0.6184267927304952\n",
      "Text: المعلومات, Probability: 0.6108816865518072\n",
      "Text: شركة العلم, Probability: 0.7104394027189145\n",
      "Text: مكان الإصدار, Probability: 0.5559336045363972\n",
      "Text: ٠ ١/٢ ٩٨٥١٠ ١, Probability: 0.5912835927453075\n",
      "Text: الملاد, Probability: 0.5547583741589672\n",
      "Text: ٢ ٤/١ ٤٣٦/٠, Probability: 0.3524231663155866\n",
      "Text: الإصدار, Probability: 0.6349693073685659\n",
      "Text: فني  حاسب, Probability: 0.7321167394999044\n",
      "Text: المهنة, Probability: 0.9533882048916555\n",
      "Text: الا سلام, Probability: 0.3656414195260208\n",
      "Text: الديانة, Probability: 0.9995331305127793\n",
      "Text: باكستان, Probability: 0.7241330598008515\n",
      "Text: الجنسية, Probability: 0.9860344849302908\n",
      "Text: شركة, Probability: 0.9972125887870789\n",
      "Text: دم, Probability: 0.10028814014391688\n",
      "Text: لون المحدو, Probability: 0.9767382329334727\n",
      "Text: شركه السيف مهندسون, Probability: 0.8096593247869618\n",
      "Text: صاحب العمل, Probability: 0.5641476246947753\n",
      "Text: 2379952415, Probability: 0.9903324948938744\n",
      "Text: لامن, Probability: 0.4945333750070339\n",
      "Text: آلي, Probability: 0.9987401176691942\n",
      "Text: شخص, Probability: 0.9649684699266962\n",
      "Text: مقاو, Probability: 0.781985195162523\n"
     ]
    }
   ],
   "source": [
    "import easyocr\n",
    "reader = easyocr.Reader(['en','ar'])\n",
    "result = reader.readtext('WhatsApp Image 2024-04-16 at 12.44.51_d2321040.jpg')\n",
    "for (bbox, text, prob) in result:\n",
    "    print(f'Text: {text}, Probability: {prob}')"
   ]
  },
  {
   "cell_type": "code",
   "execution_count": 4,
   "id": "214b7f94-0f12-4014-aa07-c17b6d4bf20f",
   "metadata": {},
   "outputs": [
    {
     "name": "stderr",
     "output_type": "stream",
     "text": [
      "Neither CUDA nor MPS are available - defaulting to CPU. Note: This module is much faster with a GPU.\n"
     ]
    },
    {
     "name": "stdout",
     "output_type": "stream",
     "text": [
      "Text: KINGDOM OF SAUDLARABIA, Probability: 0.37095517746686596\n",
      "Text: هول*ا متم, Probability: 0.15055777564428716\n",
      "Text: اماكالعرسترالسعولا, Probability: 0.04302200918297186\n",
      "Text: MINISTRY OF INTERIOR, Probability: 0.4636112155348551\n",
      "Text: RESIDENT IDENTITY, Probability: 0.8119414874808047\n",
      "Text: عثمان بابار مالك بابار علي, Probability: 0.6109052551772575\n",
      "Text: USMAN BABAR MALIK BABAR ALI, Probability: 0.7211377914877697\n",
      "Text: نسخة, Probability: 0.9843499064445496\n",
      "Text: ٢٣٧٩٩٥٢٤١٥, Probability: 0.9996045854167364\n",
      "Text: الرقم, Probability: 0.6184267927304952\n",
      "Text: المعلومات, Probability: 0.6108816865518072\n",
      "Text: شركة العلم, Probability: 0.7104394027189145\n",
      "Text: مكان الإصدار, Probability: 0.5559336045363972\n",
      "Text: ٠ ١/٢ ٩٨٥١٠ ١, Probability: 0.5912835927453075\n",
      "Text: الملاد, Probability: 0.5547583741589672\n",
      "Text: ٢ ٤/١ ٤٣٦/٠, Probability: 0.3524231663155866\n",
      "Text: الإصدار, Probability: 0.6349693073685659\n",
      "Text: فني  حاسب, Probability: 0.7321167394999044\n",
      "Text: المهنة, Probability: 0.9533882048916555\n",
      "Text: الا سلام, Probability: 0.3656414195260208\n",
      "Text: الديانة, Probability: 0.9995331305127793\n",
      "Text: باكستان, Probability: 0.7241330598008515\n",
      "Text: الجنسية, Probability: 0.9860344849302908\n",
      "Text: شركة, Probability: 0.9972125887870789\n",
      "Text: دم, Probability: 0.10028814014391688\n",
      "Text: لون المحدو, Probability: 0.9767382329334727\n",
      "Text: شركه السيف مهندسون, Probability: 0.8096593247869618\n",
      "Text: صاحب العمل, Probability: 0.5641476246947753\n",
      "Text: 2379952415, Probability: 0.9903324948938744\n",
      "Text: لامن, Probability: 0.4945333750070339\n",
      "Text: آلي, Probability: 0.9987401176691942\n",
      "Text: شخص, Probability: 0.9649684699266962\n",
      "Text: مقاو, Probability: 0.781985195162523\n"
     ]
    }
   ],
   "source": [
    "import easyocr\n",
    "reader = easyocr.Reader(['en' , 'ar'])\n",
    "result = reader.readtext('WhatsApp Image 2024-04-16 at 12.44.51_d2321040.jpg')\n",
    "\n",
    "for (bbox, text, prob) in result:\n",
    "    (top_left, top_right, bottom_right, bottom_left) = bbox\n",
    "    print(f'Text: {text}, Probability: {prob}')"
   ]
  },
  {
   "cell_type": "code",
   "execution_count": 6,
   "id": "a91c68aa-e5a5-4e5d-bfee-4b6ab0a0450f",
   "metadata": {},
   "outputs": [
    {
     "name": "stderr",
     "output_type": "stream",
     "text": [
      "Neither CUDA nor MPS are available - defaulting to CPU. Note: This module is much faster with a GPU.\n"
     ]
    },
    {
     "name": "stdout",
     "output_type": "stream",
     "text": [
      "Text: KINGDOM OF SAUDLARABIA, Coordinates: [[109, 105], [541, 105], [541, 145], [109, 145]]\n",
      "Text: هول*ا متم, Coordinates: [[641, 81], [993, 81], [993, 165], [641, 165]]\n",
      "Text: اماكالعرسترالسعولا, Coordinates: [[1115, 81], [1497, 81], [1497, 153], [1115, 153]]\n",
      "Text: MINISTRY OF INTERIOR, Coordinates: [[112, 159], [501, 159], [501, 203], [112, 203]]\n",
      "Text: RESIDENT IDENTITY, Coordinates: [[645, 179], [987, 179], [987, 223], [645, 223]]\n",
      "Text: عثمان بابار مالك بابار علي, Coordinates: [[1037, 245], [1519, 245], [1519, 309], [1037, 309]]\n",
      "Text: USMAN BABAR MALIK BABAR ALI, Coordinates: [[530, 302], [1517, 302], [1517, 354], [530, 354]]\n",
      "Text: نسخة, Coordinates: [[864, 388], [960, 388], [960, 420], [864, 420]]\n",
      "Text: ٢٣٧٩٩٥٢٤١٥, Coordinates: [[1051, 376], [1364, 376], [1364, 428], [1051, 428]]\n",
      "Text: الرقم, Coordinates: [[1424, 384], [1518, 384], [1518, 432], [1424, 432]]\n",
      "Text: المعلومات, Coordinates: [[850, 452], [1003, 452], [1003, 500], [850, 500]]\n",
      "Text: شركة العلم, Coordinates: [[1082, 450], [1264, 450], [1264, 501], [1082, 501]]\n",
      "Text: مكان الإصدار, Coordinates: [[1306, 450], [1520, 450], [1520, 498], [1306, 498]]\n",
      "Text: ٠ ١/٢ ٩٨٥١٠ ١, Coordinates: [[681, 521], [910, 521], [910, 570], [681, 570]]\n",
      "Text: الملاد, Coordinates: [[931, 523], [1023, 523], [1023, 559], [931, 559]]\n",
      "Text: ٢ ٤/١ ٤٣٦/٠, Coordinates: [[1157, 519], [1368, 519], [1368, 571], [1157, 571]]\n",
      "Text: الإصدار, Coordinates: [[1388, 520], [1519, 520], [1519, 565], [1388, 565]]\n",
      "Text: فني  حاسب, Coordinates: [[1219, 583], [1386, 583], [1386, 638], [1219, 638]]\n",
      "Text: المهنة, Coordinates: [[1433, 596], [1519, 596], [1519, 638], [1433, 638]]\n",
      "Text: الا سلام, Coordinates: [[721, 665], [829, 665], [829, 707], [721, 707]]\n",
      "Text: الديانة, Coordinates: [[849, 665], [961, 665], [961, 705], [849, 705]]\n",
      "Text: باكستان, Coordinates: [[1228, 660], [1358, 660], [1358, 710], [1228, 710]]\n",
      "Text: الجنسية, Coordinates: [[1384, 662], [1518, 662], [1518, 704], [1384, 704]]\n",
      "Text: شركة, Coordinates: [[602, 748], [692, 748], [692, 796], [602, 796]]\n",
      "Text: دم, Coordinates: [[698, 760], [736, 760], [736, 788], [698, 788]]\n",
      "Text: لون المحدو, Coordinates: [[725, 747], [904, 747], [904, 797], [725, 797]]\n",
      "Text: شركه السيف مهندسون, Coordinates: [[972, 746], [1298, 746], [1298, 796], [972, 796]]\n",
      "Text: صاحب العمل, Coordinates: [[1311, 751], [1521, 751], [1521, 791], [1311, 791]]\n",
      "Text: 2379952415, Coordinates: [[228, 938], [376, 938], [376, 968], [228, 968]]\n",
      "Text: لامن, Coordinates: [[1006.370046583403, 458.27313509186865], [1078.0775357236762, 452.1062649702944], [1079.6299534165971, 496.72686490813135], [1007.9224642763239, 501.8937350297056]]\n",
      "Text: آلي, Coordinates: [[1147.2051046034558, 593.3332719689847], [1212.4669018594088, 580.3971412049281], [1219.7948953965442, 628.6667280310153], [1154.5330981405912, 640.6028587950719]]\n",
      "Text: شخص, Coordinates: [[511.3447882227953, 758.3585340901495], [595.3971413011561, 747.8882635154976], [598.6552117772047, 787.6414659098505], [514.6028586988439, 798.1117364845024]]\n",
      "Text: مقاو, Coordinates: [[893.263428220882, 753.3112561963815], [965.086695143913, 747.1192148985532], [967.736571779118, 789.6887438036185], [895.913304856087, 795.8807851014468]]\n"
     ]
    }
   ],
   "source": [
    "import easyocr\n",
    "reader = reader = easyocr.Reader(['en' , 'ar'])\n",
    "result = reader.readtext('WhatsApp Image 2024-04-16 at 12.44.51_d2321040.jpg')\n",
    "for res in result:\n",
    "    print(f\"Text: {res[1]}, Coordinates: {res[0]}\")"
   ]
  },
  {
   "cell_type": "code",
   "execution_count": null,
   "id": "6614e557-2f94-47f4-9987-21269ac747eb",
   "metadata": {},
   "outputs": [],
   "source": []
  }
 ],
 "metadata": {
  "kernelspec": {
   "display_name": "Python 3 (ipykernel)",
   "language": "python",
   "name": "python3"
  },
  "language_info": {
   "codemirror_mode": {
    "name": "ipython",
    "version": 3
   },
   "file_extension": ".py",
   "mimetype": "text/x-python",
   "name": "python",
   "nbconvert_exporter": "python",
   "pygments_lexer": "ipython3",
   "version": "3.8.19"
  }
 },
 "nbformat": 4,
 "nbformat_minor": 5
}
